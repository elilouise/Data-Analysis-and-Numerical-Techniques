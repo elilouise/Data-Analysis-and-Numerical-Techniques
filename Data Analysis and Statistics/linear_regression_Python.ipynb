{
 "cells": [
  {
   "cell_type": "markdown",
   "metadata": {},
   "source": [
    "# Linear Regression - Polynomial Fitting in Python.\n",
    "\n"
   ]
  },
  {
   "cell_type": "code",
   "execution_count": 1,
   "metadata": {},
   "outputs": [],
   "source": [
    "# Import libraries needed:\n",
    "import numpy as np\n",
    "import matplotlib.pyplot as plt\n",
    "import matplotlib as mpl\n",
    "from scipy.optimize import curve_fit\n",
    "%matplotlib inline\n",
    "\n",
    "# Set global font size for plots:\n",
    "mpl.rcParams['font.size'] = 14\n",
    "# (see https://matplotlib.org/tutorials/introductory/customizing.html)."
   ]
  },
  {
   "cell_type": "markdown",
   "metadata": {},
   "source": [
    "## 1. Simple polynomial fit:"
   ]
  },
  {
   "cell_type": "markdown",
   "metadata": {},
   "source": [
    "Fit to a polynomial function of the form:\n",
    "    \n",
    "$$ y(x)=a_0 x^n + a_1 x^{n-1} + a_2 x^{n-2} + \\ldots + a_n x^n .$$\n",
    "\n",
    "Note that the coefficients are ordered from highest to lowest power of $x$ here, as this is how the np.polyfit function, used below, returns them. "
   ]
  },
  {
   "cell_type": "code",
   "execution_count": 2,
   "metadata": {},
   "outputs": [],
   "source": [
    "## Generate data to fit, generate data that follows a 3rd-order polynomial, with some random noise on top:\n",
    "#x = np.arange(0,11)                     # x values  \n",
    "#y0 = 100 + (x-5)**3 - 10*x^2            # 5th-order polynomial.\n",
    "## The polynomial y0 is equivalent to y(x) = x^3 - 25x^2 +75x-25.\n",
    "#plt.plot(x, y0, '-')                  # plot underlying equation.\n",
    "#mu, sigma = 0, 10                       # mean and standard deviation of Gaussian noise.\n",
    "#s = np.random.normal(mu, sigma, 11)     # generate random number chosen from Gaussian distribution.\n",
    "#y = y0 + s                              # add random noise to original y0 values.\n",
    "#plt.plot(x, y, 'ro')\n",
    "#print(y)"
   ]
  },
  {
   "cell_type": "markdown",
   "metadata": {},
   "source": [
    "The (x,y) data to fit is:"
   ]
  },
  {
   "cell_type": "code",
   "execution_count": 3,
   "metadata": {},
   "outputs": [],
   "source": [
    "x = np.array(np.arange(0,11))\n",
    "y = np.array([-23.60,30.84,63.40,67.76,56.13,56.73,30.22,48.06,41.31,71.52,135.68])"
   ]
  },
  {
   "cell_type": "code",
   "execution_count": 4,
   "metadata": {},
   "outputs": [
    {
     "data": {
      "image/png": "[encoded data removed]",
      "text/plain": [
       "<Figure size 432x288 with 1 Axes>"
      ]
     },
     "metadata": {
      "needs_background": "light"
     },
     "output_type": "display_data"
    }
   ],
   "source": [
    "plt.plot(x, y, 'ro')\n",
    "plt.xlabel('x')\n",
    "plt.ylabel('y')\n",
    "plt.title('Data to fit');\n",
    "plt.savefig('poly_data.eps', format='eps')   \n",
    "plt.savefig('poly_data.png', format='png')   "
   ]
  },
  {
   "cell_type": "markdown",
   "metadata": {},
   "source": [
    "The function takes low values for low $x$ and high values for high $x$ and appears to have **odd symmetry**.\n",
    "\n",
    "Perform a fit to a **3rd-order polynomial without weighting**:\n",
    "\n",
    "$$y(x)=a_0 x^3 + a_1 x^2 + a_2 x + a_3 . $$\n",
    "\n",
    "The independent variable is $x$ and the unknown parameters to be found via fitting (linear regression) are $a_0$, $a_1$, $a_2$ and $a_3$. \n",
    "\n",
    "We will obtain the fit parameters and their uncertainties from the covariance matrix using the **np.polyfit** function. This function implements linear least-squares fitting (minimises sum of square of residuals).\n",
    "\n",
    "Note how **we do not need to provide initial guesses** for the fit parameters, as in **linear regression** (fitting a model that is linear in the fit parameters), analytical solutions can typically be found for the best estimates of the fit parameters."
   ]
  },
  {
   "cell_type": "code",
   "execution_count": 5,
   "metadata": {
    "scrolled": true
   },
   "outputs": [
    {
     "name": "stdout",
     "output_type": "stream",
     "text": [
      "a_0 = 1.13 ± 0.09\n",
      "a_1 = -16.83 ± 1.42\n",
      "a_2 = 70.61 ± 5.91\n",
      "a_3 = -23.23 ± 6.49\n"
     ]
    }
   ],
   "source": [
    "degree = 3      # Degree of polynomial we want to fit.\n",
    "fit, cvm = np.polyfit(x, y, degree, cov=True) # fit function\n",
    "# Outputs of np.polyfit are fit parameters (fit) and covariance matrix (cvm).\n",
    "# The fit parameters, i.e., the polynomial coefficients are in order from highest to lowest power of x. \n",
    "# Hence, we have a_0 = fit[0], a_1 = fit[1], a_2 = fit[2] and a_3 = fit[3].\n",
    "\n",
    "# The diagonal elements of the covariance matrix are the variance estimates for each coefficient.\n",
    "# Hence, to obtain the uncertainties of the fit parameters, we get the diagonal elements\n",
    "# of the covariance matrix and take the square root:\n",
    "err = np.sqrt(np.diag(cvm))\n",
    "# The error in a_0 is err[0]; the error in a_1 is err[1]; the error in a_2 is err[2]; the error in a_3 is err[3].\n",
    "\n",
    "# Print fit parameters with their errors (to 2 decimal places):\n",
    "[print(\"a_{0} = {1:0.2f} \\xb1 {2:0.2f}\".format(i, fit[i], err[i])) for i in range(len(fit))];\n",
    "# The previous command uses \"list comprehension\" in Python."
   ]
  },
  {
   "cell_type": "markdown",
   "metadata": {},
   "source": [
    "Plot an overlay of the data points and the resulting fit:"
   ]
  },
  {
   "cell_type": "code",
   "execution_count": 6,
   "metadata": {},
   "outputs": [
    {
     "name": "stderr",
     "output_type": "stream",
     "text": [
      "The PostScript backend does not support transparency; partially transparent artists will be rendered opaque.\n",
      "The PostScript backend does not support transparency; partially transparent artists will be rendered opaque.\n"
     ]
    },
    {
     "data": {
      "image/png": "[encoded data removed]",
      "text/plain": [
       "<Figure size 432x288 with 1 Axes>"
      ]
     },
     "metadata": {
      "needs_background": "light"
     },
     "output_type": "display_data"
    }
   ],
   "source": [
    "xline = np.array(np.linspace(0,10,50))   # create array (50 points) to plot a smooth fitted line.\n",
    "yline = fit[0]*xline**3 + fit[1]*xline**2 + fit[2]*xline + fit[3]          # calculate fitted line.\n",
    "# A much quicker way to do the above is to use np.poly1d (see https://numpy.org/doc/stable/reference/generated/numpy.poly1d.html#numpy.poly1d).\n",
    "\n",
    "plt.plot(x, y, 'ro', label=\"data\")                    # plot data as red circles.\n",
    "plt.plot(xline, yline, 'k', label=\"polynomial fit\")   # plot black line for fit.\n",
    "plt.legend(loc=\"best\")\n",
    "plt.xlabel('x')\n",
    "plt.ylabel('y')\n",
    "plt.savefig('poly_fit.eps', format='eps')   # save figure to current folder (place before plt.show()).\n",
    "plt.savefig('poly_fit.png', format='png')   # save figure to current folder (place before plt.show()).\n",
    "plt.show()"
   ]
  },
  {
   "cell_type": "markdown",
   "metadata": {},
   "source": [
    "## 2. Weighted polynomial fit:"
   ]
  },
  {
   "cell_type": "markdown",
   "metadata": {},
   "source": [
    "In this case, we use the same data and we perform a weighted fit making use of the different error bars of the data points."
   ]
  },
  {
   "cell_type": "code",
   "execution_count": 7,
   "metadata": {},
   "outputs": [],
   "source": [
    "# Vertical error bars (y error bars; I use previous random errors s in absolute value here):\n",
    "errory = np.array([3.40,6.84,8.40,7.76,0.87,8.73,12.78,12.1,3.69,0.48,8.68])"
   ]
  },
  {
   "cell_type": "markdown",
   "metadata": {},
   "source": [
    "Perform weighted fit using option/parameter w in the np.polyfit method:"
   ]
  },
  {
   "cell_type": "code",
   "execution_count": 8,
   "metadata": {},
   "outputs": [
    {
     "name": "stdout",
     "output_type": "stream",
     "text": [
      "a_0 = 1.12 ± 0.08\n",
      "a_1 = -16.37 ± 1.04\n",
      "a_2 = 67.49 ± 3.36\n",
      "a_3 = -23.01 ± 3.26\n"
     ]
    }
   ],
   "source": [
    "# Enter errors as array 1/sigma (here 1/errory) for Gaussian uncertainties (not 1/sigma**2), \n",
    "# see https://numpy.org/doc/stable/reference/generated/numpy.polyfit.html). \n",
    "fit, cvm = np.polyfit(x,y,degree,w=1/errory,cov='unscaled')\n",
    "# Outputs and errors of fitted parameters are same as before.\n",
    "err = np.sqrt(np.diag(cvm))\n",
    "# Print fit parameters with their errors (to 2 decimal places):\n",
    "[print(\"a_{0} = {1:0.2f} \\xb1 {2:0.2f}\".format(i,fit[i],err[i])) for i in range(len(fit))];"
   ]
  },
  {
   "cell_type": "markdown",
   "metadata": {},
   "source": [
    "Plot the data points together with the fit:"
   ]
  },
  {
   "cell_type": "code",
   "execution_count": 9,
   "metadata": {},
   "outputs": [
    {
     "name": "stderr",
     "output_type": "stream",
     "text": [
      "The PostScript backend does not support transparency; partially transparent artists will be rendered opaque.\n",
      "The PostScript backend does not support transparency; partially transparent artists will be rendered opaque.\n"
     ]
    },
    {
     "data": {
      "image/png": "[encoded data removed]",
      "text/plain": [
       "<Figure size 432x288 with 1 Axes>"
      ]
     },
     "metadata": {
      "needs_background": "light"
     },
     "output_type": "display_data"
    }
   ],
   "source": [
    "xline = np.array(np.linspace(0,10,50))   # create array (50 points) to plot a smooth fitted line.\n",
    "yline = fit[0]*xline**3 + fit[1]*xline**2 + fit[2]*xline + fit[3]          # calculate fitted line.\n",
    "\n",
    "# Plot points with error bars:\n",
    "plt.errorbar(x, y, yerr = errory, fmt=\"go\", linewidth=1, capsize=3, label=\"data\")\n",
    "plt.plot(xline, yline,'b', label=\"weighted polynomial fit\")\n",
    "plt.legend(loc=\"best\")\n",
    "plt.xlabel('x')\n",
    "plt.ylabel('y')\n",
    "plt.savefig('poly_fit_weighted.eps', format='eps')   # save figure to current folder (place before plt.show()).\n",
    "plt.savefig('poly_fit_weighted.png', format='png')   # save figure to current folder (place before plt.show()).\n",
    "plt.show()"
   ]
  },
  {
   "cell_type": "markdown",
   "metadata": {},
   "source": [
    "Note that it is also possible to use a non-linear regression algorithm, such as **scipy.optimize.curve_fit** to perfom a linear regression, as the method also works (no initial guesses of parameters needed). The results are approximately the same as those using **np.polyfit**, but the uncertainties are slightly larger:"
   ]
  },
  {
   "cell_type": "code",
   "execution_count": 10,
   "metadata": {},
   "outputs": [
    {
     "name": "stdout",
     "output_type": "stream",
     "text": [
      "a_0 = 1.13 ± 0.09\n",
      "a_1 = -16.83 ± 1.42\n",
      "a_2 = 70.61 ± 5.91\n",
      "a_3 = -23.23 ± 6.49\n"
     ]
    }
   ],
   "source": [
    "# Define polynomial function:\n",
    "def poly3(x, a0, a1, a2, a3):\n",
    "    '''Third order polynomial, independent variable is x.'''\n",
    "    return a0*x**3 + a1*x**2 + a2*x + a3\n",
    "\n",
    "popt, pcov = curve_fit(poly3, x, y) # fit function\n",
    "# Outputs of curve_fit are fit parameters (popt) and covariance matrix (pcov).\n",
    "# The fit parameters are in the same order as in the function fitted.\n",
    "\n",
    "# The sqrt of the diagonal elements of the covariance matrix are uncertainties of the fit parameters:\n",
    "err = np.sqrt(np.diag(pcov))\n",
    "# Print fit parameters with their errors (to 2 decimal places):\n",
    "[print(\"a_{0} = {1:0.2f} \\xb1 {2:0.2f}\".format(i,popt[i],err[i])) for i in range(len(popt))];"
   ]
  },
  {
   "cell_type": "code",
   "execution_count": null,
   "metadata": {},
   "outputs": [],
   "source": []
  }
 ],
 "metadata": {
  "kernelspec": {
   "display_name": "Python 3",
   "language": "python",
   "name": "python3"
  },
  "language_info": {
   "codemirror_mode": {
    "name": "ipython",
    "version": 3
   },
   "file_extension": ".py",
   "mimetype": "text/x-python",
   "name": "python",
   "nbconvert_exporter": "python",
   "pygments_lexer": "ipython3",
   "version": "3.8.5"
  }
 },
 "nbformat": 4,
 "nbformat_minor": 2
}
